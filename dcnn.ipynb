{
 "cells": [
  {
   "cell_type": "code",
   "execution_count": 1,
   "id": "5ce99381",
   "metadata": {},
   "outputs": [
    {
     "name": "stdout",
     "output_type": "stream",
     "text": [
      "WARNING:tensorflow:From /home/ujjwal/miniconda3/envs/tf-nightly/lib/python3.9/site-packages/tensorflow/python/ops/distributions/distribution.py:259: ReparameterizationType.__init__ (from tensorflow.python.ops.distributions.distribution) is deprecated and will be removed after 2019-01-01.\n",
      "Instructions for updating:\n",
      "The TensorFlow Distributions library has moved to TensorFlow Probability (https://github.com/tensorflow/probability). You should update all references to use `tfp.distributions` instead of `tf.distributions`.\n",
      "WARNING:tensorflow:From /home/ujjwal/miniconda3/envs/tf-nightly/lib/python3.9/site-packages/tensorflow/python/ops/distributions/bernoulli.py:165: RegisterKL.__init__ (from tensorflow.python.ops.distributions.kullback_leibler) is deprecated and will be removed after 2019-01-01.\n",
      "Instructions for updating:\n",
      "The TensorFlow Distributions library has moved to TensorFlow Probability (https://github.com/tensorflow/probability). You should update all references to use `tfp.distributions` instead of `tf.distributions`.\n",
      "INFO:tensorflow:Mixed precision compatibility check (mixed_float16): OK\n",
      "Your GPU will likely run quickly with dtype policy mixed_float16 as it has compute capability of at least 7.0. Your GPU: NVIDIA GeForce RTX 3050 Laptop GPU, compute capability 8.6\n"
     ]
    }
   ],
   "source": [
    "import os\n",
    "os.environ['TF_CPP_MIN_LOG_LEVEL'] = '3' \n",
    "import numpy as np\n",
    "import pandas as pd\n",
    "import tensorflow as tf\n",
    "from tensorflow.keras import optimizers\n",
    "from tensorflow.keras.models import Model\n",
    "from tensorflow.keras.layers import Input, Flatten, Dense, Conv2D, MaxPooling2D\n",
    "from tensorflow.keras.layers import Dropout, BatchNormalization\n",
    "from tensorflow.keras.callbacks import Callback, EarlyStopping, ReduceLROnPlateau, ModelCheckpoint\n",
    "from keras.preprocessing.image import ImageDataGenerator\n",
    "# from tensorflow.keras.utils import plot_model\n",
    "# from keras.utils import np_utils\n",
    "\n",
    "from sklearn.model_selection import train_test_split\n",
    "from sklearn.metrics import classification_report\n",
    "import matplotlib.pyplot as plt\n",
    "\n",
    "from tensorflow.keras import mixed_precision\n",
    "mixed_precision.set_global_policy('mixed_float16')"
<<<<<<< HEAD
=======
   ]
  },
  {
   "cell_type": "code",
   "execution_count": 2,
   "id": "eb4cfc76",
   "metadata": {},
   "outputs": [
    {
     "name": "stdout",
     "output_type": "stream",
     "text": [
      "Dataset already downloaded\n",
      "There are 1 directories and 1 images in fer2013plus\n",
      "There are 1 directories and 0 images in fer2013plus/fer2013plus\n",
      "There are 2 directories and 0 images in fer2013plus/fer2013plus/fer2013\n",
      "There are 8 directories and 0 images in fer2013plus/fer2013plus/fer2013/train\n",
      "There are 0 directories and 165 images in fer2013plus/fer2013plus/fer2013/train/contempt\n",
      "There are 0 directories and 3514 images in fer2013plus/fer2013plus/fer2013/train/sadness\n",
      "There are 0 directories and 2466 images in fer2013plus/fer2013plus/fer2013/train/anger\n",
      "There are 0 directories and 10308 images in fer2013plus/fer2013plus/fer2013/train/neutral\n",
      "There are 0 directories and 7528 images in fer2013plus/fer2013plus/fer2013/train/happiness\n",
      "There are 0 directories and 191 images in fer2013plus/fer2013plus/fer2013/train/disgust\n",
      "There are 0 directories and 652 images in fer2013plus/fer2013plus/fer2013/train/fear\n",
      "There are 0 directories and 3562 images in fer2013plus/fer2013plus/fer2013/train/surprise\n",
      "There are 8 directories and 0 images in fer2013plus/fer2013plus/fer2013/test\n",
      "There are 0 directories and 51 images in fer2013plus/fer2013plus/fer2013/test/contempt\n",
      "There are 0 directories and 856 images in fer2013plus/fer2013plus/fer2013/test/sadness\n",
      "There are 0 directories and 644 images in fer2013plus/fer2013plus/fer2013/test/anger\n",
      "There are 0 directories and 2597 images in fer2013plus/fer2013plus/fer2013/test/neutral\n",
      "There are 0 directories and 1827 images in fer2013plus/fer2013plus/fer2013/test/happiness\n",
      "There are 0 directories and 57 images in fer2013plus/fer2013plus/fer2013/test/disgust\n",
      "There are 0 directories and 167 images in fer2013plus/fer2013plus/fer2013/test/fear\n",
      "There are 0 directories and 900 images in fer2013plus/fer2013plus/fer2013/test/surprise\n"
     ]
    }
   ],
   "source": [
    "import os\n",
    "if \"fer2013plus\" not in os.listdir(\".\"):\n",
    "    print(\"Dataset to be downloaded\")\n",
    "    # ! pip install opendatasets\n",
    "    import opendatasets as od\n",
    "    dataset_url = \"https://www.kaggle.com/datasets/subhaditya/fer2013plus\"\n",
    "    od.download(dataset_url)\n",
    "else:\n",
    "    print(\"Dataset already downloaded\")\n",
    "    for dirpath, dirnames, filenames in os.walk(\"fer2013plus\"):\n",
    "        print(f\"There are {len(dirnames)} directories and {len(filenames)} images in {dirpath}\")"
>>>>>>> 33c3ff2f48cbc131da3ea655d8cfe792a7b15e82
   ]
  },
  {
   "cell_type": "code",
   "execution_count": 3,
   "id": "2229e4b3",
   "metadata": {},
   "outputs": [
    {
     "name": "stdout",
     "output_type": "stream",
     "text": [
      "There are 2 directories and 0 images in 'fer2013plus/fer2013plus/fer2013/'\n",
      "There are 8 directories and 0 images in 'fer2013plus/fer2013plus/fer2013/train'\n",
      "There are 0 directories and 165 images in 'fer2013plus/fer2013plus/fer2013/train/contempt'\n",
      "There are 0 directories and 3514 images in 'fer2013plus/fer2013plus/fer2013/train/sadness'\n",
      "There are 0 directories and 2466 images in 'fer2013plus/fer2013plus/fer2013/train/anger'\n",
      "There are 0 directories and 10308 images in 'fer2013plus/fer2013plus/fer2013/train/neutral'\n",
      "There are 0 directories and 7528 images in 'fer2013plus/fer2013plus/fer2013/train/happiness'\n",
      "There are 0 directories and 191 images in 'fer2013plus/fer2013plus/fer2013/train/disgust'\n",
      "There are 0 directories and 652 images in 'fer2013plus/fer2013plus/fer2013/train/fear'\n",
      "There are 0 directories and 3562 images in 'fer2013plus/fer2013plus/fer2013/train/surprise'\n",
      "There are 8 directories and 0 images in 'fer2013plus/fer2013plus/fer2013/test'\n",
      "There are 0 directories and 51 images in 'fer2013plus/fer2013plus/fer2013/test/contempt'\n",
      "There are 0 directories and 856 images in 'fer2013plus/fer2013plus/fer2013/test/sadness'\n",
      "There are 0 directories and 644 images in 'fer2013plus/fer2013plus/fer2013/test/anger'\n",
      "There are 0 directories and 2597 images in 'fer2013plus/fer2013plus/fer2013/test/neutral'\n",
      "There are 0 directories and 1827 images in 'fer2013plus/fer2013plus/fer2013/test/happiness'\n",
      "There are 0 directories and 57 images in 'fer2013plus/fer2013plus/fer2013/test/disgust'\n",
      "There are 0 directories and 167 images in 'fer2013plus/fer2013plus/fer2013/test/fear'\n",
      "There are 0 directories and 900 images in 'fer2013plus/fer2013plus/fer2013/test/surprise'\n"
     ]
    }
   ],
   "source": [
    "for dirpath, dirnames, filenames in os.walk(\"fer2013plus/fer2013plus/fer2013/\"):\n",
    "  print(f\"There are {len(dirnames)} directories and {len(filenames)} images in '{dirpath}'\")"
   ]
  },
  {
   "cell_type": "code",
   "execution_count": 4,
   "id": "f5a220a9",
   "metadata": {},
   "outputs": [
    {
     "name": "stdout",
     "output_type": "stream",
     "text": [
      "Found 28386 images belonging to 8 classes.\n",
      "Found 7099 images belonging to 8 classes.\n"
     ]
    }
   ],
   "source": [
    "# tf.random.set_seed(42)\n",
    "# datagen_whole = tf.keras.preprocessing.image.ImageDataGenerator(rescale=1./255)\n",
    "\n",
    "# train_data = datagen_whole.flow_from_directory(\"fer2013plus/fer2013/train/\",\n",
    "#                                                batch_size=128,\n",
    "#                                                target_size=(48,48),\n",
    "#                                                shuffle=True,\n",
    "#                                                class_mode=\"sparse\",\n",
    "#                                                color_mode=\"grayscale\")\n",
    "\n",
    "# test_data = datagen_whole.flow_from_directory(\"fer2013plus/fer2013/test/\",\n",
    "#                                                batch_size=128,\n",
    "#                                                target_size=(48,48),\n",
    "#                                                shuffle=True,\n",
    "#                                                class_mode=\"sparse\",\n",
    "#                                                color_mode=\"grayscale\")                                               \n",
    "\n",
    "# train_data_feature=[]\n",
    "# train_label=[]\n",
    "\n",
    "# test_data_feature=[]\n",
    "# test_label=[]\n",
    "\n",
    "# c=0\n",
    "# x=0\n",
    "# while c<len(train_data):\n",
    "#     x = train_data.next()\n",
    "#     for i in range(0,x[0].shape[0]):\n",
    "#         train_data_feature.append(x[0][i])\n",
    "#         train_label.append(int(x[1][i]))\n",
    "#     c+=1\n",
    "# # len(train_data_feature),len(train_label)\n",
    "\n",
    "\n",
    "# c=0\n",
    "# x=0\n",
    "# while c<len(test_data):\n",
    "#     x = test_data.next()\n",
    "#     for i in range(0,x[0].shape[0]):\n",
    "#         test_data_feature.append(x[0][i])\n",
    "#         test_label.append(int(x[1][i]))\n",
    "#     c+=1\n",
    "# # len(test_data_feature),len(test_label)\n",
    "\n",
    "# train_data_reshape = np.reshape(train_data_feature,(28386,48*48))\n",
    "# # test_data_reshape = np.reshape(test_data_feature,(7099,48*48))\n",
    "\n",
    "\n",
    "# from imblearn.over_sampling import RandomOverSampler\n",
    "# ros1 = RandomOverSampler(random_state=0)\n",
    "# X_resampled_train, y_resampled_train = ros1.fit_resample(train_data_reshape, train_label)\n",
    "\n",
    "# # ros2 = RandomOverSampler(random_state=0)\n",
    "# # X_resampled_test, y_resampled_test = ros2.fit_resample(test_data_reshape, test_label)\n",
    "\n",
    "# X_train = tf.reshape(X_resampled_train,(X_resampled_train.shape[0],48,48,1))\n",
    "# # X_test = tf.reshape(X_resampled_test,(X_resampled_test.shape[0],48,48,1))\n",
    "\n",
    "# xlabel = np.asarray(y_resampled_train)\n",
    "\n",
    "# ylabel = np.asarray(test_label)\n",
    "\n",
    "# X_test = test_data_feature\n",
    "\n",
    "\n",
    "from tensorflow.keras.preprocessing.image import ImageDataGenerator\n",
    "\n",
    "tf.random.set_seed(42)\n",
    "\n",
    "train_datagen = ImageDataGenerator(rescale=1./255)\n",
    "test_datagen = ImageDataGenerator(rescale=1./255)\n",
    "\n",
    "train_dir=\"fer2013plus/fer2013plus/fer2013/train/\"\n",
    "test_dir=\"fer2013plus/fer2013plus/fer2013/test/\"\n",
    "\n",
    "\n",
    "train_data = train_datagen.flow_from_directory(train_dir,\n",
    "                                               batch_size=64,\n",
    "                                               target_size=(48,48),\n",
    "                                               class_mode=\"categorical\",\n",
    "                                               seed=42)\n",
    "test_data = test_datagen.flow_from_directory(test_dir,\n",
    "                                             batch_size=64,\n",
    "                                             target_size=(48,48),\n",
    "                                             class_mode=\"categorical\",\n",
    "                                             seed=42)"
   ]
  },
  {
   "cell_type": "code",
<<<<<<< HEAD
   "execution_count": 4,
=======
   "execution_count": 5,
>>>>>>> 33c3ff2f48cbc131da3ea655d8cfe792a7b15e82
   "id": "32ccfc2e",
   "metadata": {},
   "outputs": [],
   "source": [
    "def build_dcnn(input_shape, num_classes):\n",
    "    model_in = Input(shape=input_shape, name=\"input\")\n",
    "    # model_in = tf.keras.layers.GaussianNoise(0.5,seed=42)(model_in)\n",
    "    conv2d_1 = Conv2D(\n",
    "        filters=128,\n",
    "        kernel_size=(5,5),\n",
    "        activation='elu',\n",
    "        padding='same',\n",
    "        \n",
    "        kernel_initializer='he_normal',  \n",
    "        \n",
    "        name='conv2d_1'\n",
    "    )(model_in)\n",
    "    batchnorm_1 = BatchNormalization(name='batchnorm_1')(conv2d_1)\n",
    "    conv2d_2 = Conv2D(\n",
    "        filters=64,\n",
    "        kernel_size=(3,3),\n",
    "        activation='elu',\n",
    "        padding='same',\n",
    "        kernel_initializer='he_normal',\n",
    "        name='conv2d_2'\n",
    "    )(batchnorm_1)\n",
    "    batchnorm_2 = BatchNormalization(name='batchnorm_2')(conv2d_2)\n",
    "    \n",
    "    maxpool2d_1 = MaxPooling2D(pool_size=(3,3), name='maxpool2d_1')(batchnorm_2)\n",
    "    \n",
    "    dropout_1 = Dropout(0.2, name='dropout_1')(maxpool2d_1)\n",
    "\n",
    "    conv2d_3 = Conv2D(\n",
    "        filters=64,\n",
    "        kernel_size=(3,3),\n",
    "        activation='elu',\n",
    "        padding='same',\n",
    "        kernel_initializer='he_normal',\n",
    "        name='conv2d_3'\n",
    "    )(dropout_1)\n",
    "    batchnorm_3 = BatchNormalization(name='batchnorm_3')(conv2d_3)\n",
    "    conv2d_4 = Conv2D(\n",
    "        filters=128,\n",
    "        kernel_size=(3,3),\n",
    "        activation='elu',\n",
    "        padding='same',\n",
    "        kernel_initializer='he_normal',\n",
    "        name='conv2d_4'\n",
    "    )(batchnorm_3)\n",
    "    batchnorm_4 = BatchNormalization(name='batchnorm_4')(conv2d_4)\n",
    "    \n",
    "    maxpool2d_2 = MaxPooling2D(pool_size=(2,2), name='maxpool2d_2')(batchnorm_4)\n",
    "    dropout_2 = Dropout(0.2, name='dropout_2')(maxpool2d_2)\n",
    "\n",
    "    conv2d_5 = Conv2D(\n",
    "        filters=256,  # Increasing learning capacity and feature extraction\n",
    "        kernel_size=(3,3),\n",
    "        activation='elu',\n",
    "        padding='same',\n",
    "        kernel_initializer='he_normal',\n",
    "        name='conv2d_5'\n",
    "    )(dropout_2)\n",
    "    batchnorm_5 = BatchNormalization(name='batchnorm_5')(conv2d_5)\n",
    "    conv2d_6 = Conv2D(\n",
    "        filters=256,\n",
    "        kernel_size=(3,3),\n",
    "        activation='elu',\n",
    "        padding='same',\n",
    "        kernel_initializer='he_normal',\n",
    "        name='conv2d_6'\n",
    "    )(batchnorm_5)\n",
    "    batchnorm_6 = BatchNormalization(name='batchnorm_6')(conv2d_6)\n",
    "    \n",
    "    maxpool2d_3 = MaxPooling2D(pool_size=(2,2), name='maxpool2d_3')(batchnorm_6)\n",
    "\n",
    "    dropout_3 = Dropout(0.3, name='dropout_3')(maxpool2d_3)\n",
    "\n",
    "    flatten = Flatten(name='flatten')(dropout_3)\n",
    "    \n",
    "    dense_1 = Dense(\n",
    "        128,   # 128 input neurons\n",
    "        activation='elu',\n",
    "        kernel_initializer='he_normal',\n",
    "        name='dense1'\n",
    "    )(flatten)\n",
    "    batchnorm_7 = BatchNormalization(name='batchnorm_7')(dense_1)\n",
    "    dropout_4 = Dropout(0.4, name='dropout_4')(batchnorm_7)\n",
    "\n",
    "    model_out = Dense(\n",
    "        num_classes,\n",
    "        activation='softmax',\n",
    "        name='out_layer',\n",
    "        kernel_initializer=tf.keras.initializers.HeNormal()\n",
    "    )(dropout_4)\n",
    "\n",
    "    model = Model(inputs=model_in, outputs=model_out, name=\"DCNN\")\n",
    "    \n",
    "    return model"
   ]
  },
  {
   "cell_type": "code",
<<<<<<< HEAD
   "execution_count": 5,
=======
   "execution_count": 6,
>>>>>>> 33c3ff2f48cbc131da3ea655d8cfe792a7b15e82
   "id": "73f65e86",
   "metadata": {},
   "outputs": [
    {
     "name": "stdout",
     "output_type": "stream",
     "text": [
      "Model: \"DCNN\"\n",
      "_________________________________________________________________\n",
      " Layer (type)                Output Shape              Param #   \n",
      "=================================================================\n",
      " input (InputLayer)          [(None, 48, 48, 1)]       0         \n",
      "                                                                 \n",
      " conv2d_1 (Conv2D)           (None, 48, 48, 128)       3328      \n",
      "                                                                 \n",
      " batchnorm_1 (BatchNormaliz  (None, 48, 48, 128)       512       \n",
      " ation)                                                          \n",
      "                                                                 \n",
      " conv2d_2 (Conv2D)           (None, 48, 48, 64)        73792     \n",
      "                                                                 \n",
      " batchnorm_2 (BatchNormaliz  (None, 48, 48, 64)        256       \n",
      " ation)                                                          \n",
      "                                                                 \n",
      " maxpool2d_1 (MaxPooling2D)  (None, 16, 16, 64)        0         \n",
      "                                                                 \n",
      " dropout_1 (Dropout)         (None, 16, 16, 64)        0         \n",
      "                                                                 \n",
      " conv2d_3 (Conv2D)           (None, 16, 16, 64)        36928     \n",
      "                                                                 \n",
      " batchnorm_3 (BatchNormaliz  (None, 16, 16, 64)        256       \n",
      " ation)                                                          \n",
      "                                                                 \n",
      " conv2d_4 (Conv2D)           (None, 16, 16, 128)       73856     \n",
      "                                                                 \n",
      " batchnorm_4 (BatchNormaliz  (None, 16, 16, 128)       512       \n",
      " ation)                                                          \n",
      "                                                                 \n",
      " maxpool2d_2 (MaxPooling2D)  (None, 8, 8, 128)         0         \n",
      "                                                                 \n",
      " dropout_2 (Dropout)         (None, 8, 8, 128)         0         \n",
      "                                                                 \n",
      " conv2d_5 (Conv2D)           (None, 8, 8, 256)         295168    \n",
      "                                                                 \n",
      " batchnorm_5 (BatchNormaliz  (None, 8, 8, 256)         1024      \n",
      " ation)                                                          \n",
      "                                                                 \n",
      " conv2d_6 (Conv2D)           (None, 8, 8, 256)         590080    \n",
      "                                                                 \n",
      " batchnorm_6 (BatchNormaliz  (None, 8, 8, 256)         1024      \n",
      " ation)                                                          \n",
      "                                                                 \n",
      " maxpool2d_3 (MaxPooling2D)  (None, 4, 4, 256)         0         \n",
      "                                                                 \n",
      " dropout_3 (Dropout)         (None, 4, 4, 256)         0         \n",
      "                                                                 \n",
      " flatten (Flatten)           (None, 4096)              0         \n",
      "                                                                 \n",
      " dense1 (Dense)              (None, 128)               524416    \n",
      "                                                                 \n",
      " batchnorm_7 (BatchNormaliz  (None, 128)               512       \n",
      " ation)                                                          \n",
      "                                                                 \n",
      " dropout_4 (Dropout)         (None, 128)               0         \n",
      "                                                                 \n",
      " out_layer (Dense)           (None, 8)                 1032      \n",
      "                                                                 \n",
      "=================================================================\n",
      "Total params: 1602696 (6.11 MB)\n",
      "Trainable params: 1600648 (6.11 MB)\n",
      "Non-trainable params: 2048 (8.00 KB)\n",
      "_________________________________________________________________\n"
     ]
    }
   ],
   "source": [
    "model = build_dcnn(input_shape=(48,48,1), num_classes=8)\n",
    "model.summary()"
   ]
  },
  {
   "cell_type": "code",
<<<<<<< HEAD
   "execution_count": 6,
=======
   "execution_count": 7,
>>>>>>> 33c3ff2f48cbc131da3ea655d8cfe792a7b15e82
   "id": "75055c7a",
   "metadata": {},
   "outputs": [],
   "source": [
    "# import visualkeras\n",
    "# # from PIL import ImageFont\n",
    "# from collections import defaultdict\n",
    "\n",
    "# color_map = defaultdict(dict)\n",
    "# color_map[tf.keras.layers.Conv2D]['fill'] = 'red'\n",
    "# color_map[tf.keras.layers.Input]['fill'] = 'gray'\n",
    "# color_map[tf.keras.layers.Dropout]['fill'] = 'pink'\n",
    "# color_map[tf.keras.layers.MaxPooling2D]['fill'] = 'orange'\n",
    "# color_map[tf.keras.layers.Dense]['fill'] = 'black'\n",
    "# color_map[tf.keras.layers.Flatten]['fill'] = 'blue'\n",
    "\n",
    "# font1 = ImageFont.truetype(\"arial.ttf\", 32)\n",
    "# x = visualkeras.layered_view(model,font=font1,legend=True,color_map=color_map)\n",
    "# # x.convert(\"RGB\")\n",
    "# x\n",
    "\n",
    "# # from PIL import ImageFont\n",
    "\n",
    "# # font1 = ImageFont.truetype(\"arial.ttf\", 32)  # using comic sans is strictly prohibited!\n",
    "# # print(font1)\n",
    "# # visualkeras.layered_view(model).show()  # font is optional!\n"
   ]
  },
  {
   "cell_type": "code",
   "execution_count": 8,
   "id": "4abb1d54",
   "metadata": {},
   "outputs": [
    {
     "name": "stdout",
     "output_type": "stream",
     "text": [
      "You must install pydot (`pip install pydot`) and install graphviz (see instructions at https://graphviz.gitlab.io/download/) for plot_model to work.\n"
     ]
    }
   ],
   "source": [
    "tf.keras.utils.plot_model(model,show_shapes=True)"
   ]
  },
  {
   "cell_type": "code",
   "execution_count": 9,
   "id": "060ceaa8",
   "metadata": {},
   "outputs": [],
   "source": [
    "# def myprint(s):\n",
    "#     with open('modelsummary.txt','a') as f:\n",
    "#         print(s, file=f)\n",
    "\n",
    "# model.summary(print_fn=myprint)"
   ]
  },
  {
   "cell_type": "code",
   "execution_count": 10,
   "id": "7078178a",
   "metadata": {},
   "outputs": [],
   "source": [
    "model.compile(loss=tf.keras.losses.SparseCategoricalCrossentropy(),\n",
    "             optimizer=optimizers.Adam(0.01),\n",
    "             metrics=[\"accuracy\"])"
   ]
  },
  {
   "cell_type": "code",
   "execution_count": 11,
   "id": "f140ad32",
   "metadata": {},
   "outputs": [],
   "source": [
    "#Callback functions\n",
    "early_stopping = EarlyStopping(\n",
    "    monitor='val_loss',    \n",
    "    min_delta=0.00001,      \n",
    "    patience=4,            \n",
    "    verbose=1,\n",
    "    restore_best_weights=True\n",
    ")\n",
    "\n",
    "lr_scheduler = ReduceLROnPlateau(\n",
    "    monitor='val_accuracy',  #val_loss no overfitting   \n",
    "    min_delta=0.0001,  \n",
    "    mode=\"min\",\n",
    "    factor=0.5,                 \n",
    "    patience=2,                 \n",
    "    min_lr=1e-7,                \n",
    "    verbose=1                   \n",
    ")\n",
    "\n",
    "checkpoint = ModelCheckpoint(\"model.h5\", monitor='val_accuracy', \n",
    "                         verbose=1, save_best_only=True, mode='max')"
   ]
  },
  {
   "cell_type": "code",
   "execution_count": 12,
   "id": "60dfccbc",
   "metadata": {},
   "outputs": [],
   "source": [
    "import time"
   ]
  },
  {
   "cell_type": "code",
<<<<<<< HEAD
   "execution_count": 17,
=======
   "execution_count": 16,
>>>>>>> 33c3ff2f48cbc131da3ea655d8cfe792a7b15e82
   "id": "be8e1bff",
   "metadata": {
    "scrolled": true
   },
   "outputs": [
    {
     "name": "stdout",
     "output_type": "stream",
     "text": [
      "Epoch 1/30\n"
     ]
    },
    {
     "ename": "UnknownError",
     "evalue": "Graph execution error:\n\nDetected at node DCNN/conv2d_1/Conv2D defined at (most recent call last):\n  File \"/home/ujjwal/miniconda3/envs/tf-nightly/lib/python3.9/runpy.py\", line 197, in _run_module_as_main\n\n  File \"/home/ujjwal/miniconda3/envs/tf-nightly/lib/python3.9/runpy.py\", line 87, in _run_code\n\n  File \"/home/ujjwal/miniconda3/envs/tf-nightly/lib/python3.9/site-packages/ipykernel_launcher.py\", line 17, in <module>\n\n  File \"/home/ujjwal/miniconda3/envs/tf-nightly/lib/python3.9/site-packages/traitlets/config/application.py\", line 1043, in launch_instance\n\n  File \"/home/ujjwal/miniconda3/envs/tf-nightly/lib/python3.9/site-packages/ipykernel/kernelapp.py\", line 736, in start\n\n  File \"/home/ujjwal/miniconda3/envs/tf-nightly/lib/python3.9/site-packages/tornado/platform/asyncio.py\", line 195, in start\n\n  File \"/home/ujjwal/miniconda3/envs/tf-nightly/lib/python3.9/asyncio/base_events.py\", line 601, in run_forever\n\n  File \"/home/ujjwal/miniconda3/envs/tf-nightly/lib/python3.9/asyncio/base_events.py\", line 1905, in _run_once\n\n  File \"/home/ujjwal/miniconda3/envs/tf-nightly/lib/python3.9/asyncio/events.py\", line 80, in _run\n\n  File \"/home/ujjwal/miniconda3/envs/tf-nightly/lib/python3.9/site-packages/ipykernel/kernelbase.py\", line 516, in dispatch_queue\n\n  File \"/home/ujjwal/miniconda3/envs/tf-nightly/lib/python3.9/site-packages/ipykernel/kernelbase.py\", line 505, in process_one\n\n  File \"/home/ujjwal/miniconda3/envs/tf-nightly/lib/python3.9/site-packages/ipykernel/kernelbase.py\", line 412, in dispatch_shell\n\n  File \"/home/ujjwal/miniconda3/envs/tf-nightly/lib/python3.9/site-packages/ipykernel/kernelbase.py\", line 740, in execute_request\n\n  File \"/home/ujjwal/miniconda3/envs/tf-nightly/lib/python3.9/site-packages/ipykernel/ipkernel.py\", line 422, in do_execute\n\n  File \"/home/ujjwal/miniconda3/envs/tf-nightly/lib/python3.9/site-packages/ipykernel/zmqshell.py\", line 546, in run_cell\n\n  File \"/home/ujjwal/miniconda3/envs/tf-nightly/lib/python3.9/site-packages/IPython/core/interactiveshell.py\", line 3009, in run_cell\n\n  File \"/home/ujjwal/miniconda3/envs/tf-nightly/lib/python3.9/site-packages/IPython/core/interactiveshell.py\", line 3064, in _run_cell\n\n  File \"/home/ujjwal/miniconda3/envs/tf-nightly/lib/python3.9/site-packages/IPython/core/async_helpers.py\", line 129, in _pseudo_sync_runner\n\n  File \"/home/ujjwal/miniconda3/envs/tf-nightly/lib/python3.9/site-packages/IPython/core/interactiveshell.py\", line 3269, in run_cell_async\n\n  File \"/home/ujjwal/miniconda3/envs/tf-nightly/lib/python3.9/site-packages/IPython/core/interactiveshell.py\", line 3448, in run_ast_nodes\n\n  File \"/home/ujjwal/miniconda3/envs/tf-nightly/lib/python3.9/site-packages/IPython/core/interactiveshell.py\", line 3508, in run_code\n\n  File \"/tmp/ipykernel_275807/1390105209.py\", line 4, in <module>\n\n  File \"/home/ujjwal/miniconda3/envs/tf-nightly/lib/python3.9/site-packages/keras/src/utils/traceback_utils.py\", line 65, in error_handler\n\n  File \"/home/ujjwal/miniconda3/envs/tf-nightly/lib/python3.9/site-packages/keras/src/engine/training.py\", line 1783, in fit\n\n  File \"/home/ujjwal/miniconda3/envs/tf-nightly/lib/python3.9/site-packages/keras/src/engine/training.py\", line 1377, in train_function\n\n  File \"/home/ujjwal/miniconda3/envs/tf-nightly/lib/python3.9/site-packages/keras/src/engine/training.py\", line 1360, in step_function\n\n  File \"/home/ujjwal/miniconda3/envs/tf-nightly/lib/python3.9/site-packages/keras/src/engine/training.py\", line 1349, in run_step\n\n  File \"/home/ujjwal/miniconda3/envs/tf-nightly/lib/python3.9/site-packages/keras/src/engine/training.py\", line 1126, in train_step\n\n  File \"/home/ujjwal/miniconda3/envs/tf-nightly/lib/python3.9/site-packages/keras/src/utils/traceback_utils.py\", line 65, in error_handler\n\n  File \"/home/ujjwal/miniconda3/envs/tf-nightly/lib/python3.9/site-packages/keras/src/engine/training.py\", line 589, in __call__\n\n  File \"/home/ujjwal/miniconda3/envs/tf-nightly/lib/python3.9/site-packages/keras/src/utils/traceback_utils.py\", line 65, in error_handler\n\n  File \"/home/ujjwal/miniconda3/envs/tf-nightly/lib/python3.9/site-packages/keras/src/engine/base_layer.py\", line 1149, in __call__\n\n  File \"/home/ujjwal/miniconda3/envs/tf-nightly/lib/python3.9/site-packages/keras/src/utils/traceback_utils.py\", line 96, in error_handler\n\n  File \"/home/ujjwal/miniconda3/envs/tf-nightly/lib/python3.9/site-packages/keras/src/engine/functional.py\", line 515, in call\n\n  File \"/home/ujjwal/miniconda3/envs/tf-nightly/lib/python3.9/site-packages/keras/src/engine/functional.py\", line 672, in _run_internal_graph\n\n  File \"/home/ujjwal/miniconda3/envs/tf-nightly/lib/python3.9/site-packages/keras/src/utils/traceback_utils.py\", line 65, in error_handler\n\n  File \"/home/ujjwal/miniconda3/envs/tf-nightly/lib/python3.9/site-packages/keras/src/engine/base_layer.py\", line 1149, in __call__\n\n  File \"/home/ujjwal/miniconda3/envs/tf-nightly/lib/python3.9/site-packages/keras/src/utils/traceback_utils.py\", line 96, in error_handler\n\n  File \"/home/ujjwal/miniconda3/envs/tf-nightly/lib/python3.9/site-packages/keras/src/layers/convolutional/base_conv.py\", line 290, in call\n\n  File \"/home/ujjwal/miniconda3/envs/tf-nightly/lib/python3.9/site-packages/keras/src/layers/convolutional/base_conv.py\", line 262, in convolution_op\n\nCUDNN_STATUS_BAD_PARAM\nin tensorflow/compiler/xla/stream_executor/cuda/cuda_dnn.cc(4155): 'op' CUDNN_BACKEND_OPERATION: cudnnFinalize Failed\n\t [[{{node DCNN/conv2d_1/Conv2D}}]] [Op:__inference_train_function_5435]",
     "output_type": "error",
     "traceback": [
      "\u001b[0;31m---------------------------------------------------------------------------\u001b[0m",
      "\u001b[0;31mUnknownError\u001b[0m                              Traceback (most recent call last)",
      "Cell \u001b[0;32mIn[16], line 4\u001b[0m\n\u001b[1;32m      1\u001b[0m \u001b[39m#Fitting the data\u001b[39;00m\n\u001b[1;32m      2\u001b[0m start \u001b[39m=\u001b[39m time\u001b[39m.\u001b[39mtime()\n\u001b[0;32m----> 4\u001b[0m history \u001b[39m=\u001b[39m model\u001b[39m.\u001b[39;49mfit(train_data,\n\u001b[1;32m      5\u001b[0m                     epochs\u001b[39m=\u001b[39;49m\u001b[39m30\u001b[39;49m,\n\u001b[1;32m      6\u001b[0m                     steps_per_epoch\u001b[39m=\u001b[39;49m\u001b[39mlen\u001b[39;49m(train_data),\n\u001b[1;32m      7\u001b[0m                     validation_steps\u001b[39m=\u001b[39;49m\u001b[39mint\u001b[39;49m(\u001b[39m0.25\u001b[39;49m\u001b[39m*\u001b[39;49m\u001b[39mlen\u001b[39;49m(test_data)),\n\u001b[1;32m      8\u001b[0m                     \u001b[39m# batch_size=64,\u001b[39;49;00m\n\u001b[1;32m      9\u001b[0m                     validation_data \u001b[39m=\u001b[39;49m test_data,\n\u001b[1;32m     10\u001b[0m                     \u001b[39m# validation_batch_size=64,\u001b[39;49;00m\n\u001b[1;32m     11\u001b[0m                     callbacks\u001b[39m=\u001b[39;49m[early_stopping,lr_scheduler, checkpoint])\n\u001b[1;32m     13\u001b[0m end\u001b[39m=\u001b[39mtime\u001b[39m.\u001b[39mtime()\n",
      "File \u001b[0;32m~/miniconda3/envs/tf-nightly/lib/python3.9/site-packages/keras/src/utils/traceback_utils.py:70\u001b[0m, in \u001b[0;36mfilter_traceback.<locals>.error_handler\u001b[0;34m(*args, **kwargs)\u001b[0m\n\u001b[1;32m     67\u001b[0m     filtered_tb \u001b[39m=\u001b[39m _process_traceback_frames(e\u001b[39m.\u001b[39m__traceback__)\n\u001b[1;32m     68\u001b[0m     \u001b[39m# To get the full stack trace, call:\u001b[39;00m\n\u001b[1;32m     69\u001b[0m     \u001b[39m# `tf.debugging.disable_traceback_filtering()`\u001b[39;00m\n\u001b[0;32m---> 70\u001b[0m     \u001b[39mraise\u001b[39;00m e\u001b[39m.\u001b[39mwith_traceback(filtered_tb) \u001b[39mfrom\u001b[39;00m \u001b[39mNone\u001b[39;00m\n\u001b[1;32m     71\u001b[0m \u001b[39mfinally\u001b[39;00m:\n\u001b[1;32m     72\u001b[0m     \u001b[39mdel\u001b[39;00m filtered_tb\n",
      "File \u001b[0;32m~/miniconda3/envs/tf-nightly/lib/python3.9/site-packages/tensorflow/python/eager/execute.py:60\u001b[0m, in \u001b[0;36mquick_execute\u001b[0;34m(op_name, num_outputs, inputs, attrs, ctx, name)\u001b[0m\n\u001b[1;32m     53\u001b[0m   \u001b[39m# Convert any objects of type core_types.Tensor to Tensor.\u001b[39;00m\n\u001b[1;32m     54\u001b[0m   inputs \u001b[39m=\u001b[39m [\n\u001b[1;32m     55\u001b[0m       tensor_conversion_registry\u001b[39m.\u001b[39mconvert(t)\n\u001b[1;32m     56\u001b[0m       \u001b[39mif\u001b[39;00m \u001b[39misinstance\u001b[39m(t, core_types\u001b[39m.\u001b[39mTensor)\n\u001b[1;32m     57\u001b[0m       \u001b[39melse\u001b[39;00m t\n\u001b[1;32m     58\u001b[0m       \u001b[39mfor\u001b[39;00m t \u001b[39min\u001b[39;00m inputs\n\u001b[1;32m     59\u001b[0m   ]\n\u001b[0;32m---> 60\u001b[0m   tensors \u001b[39m=\u001b[39m pywrap_tfe\u001b[39m.\u001b[39mTFE_Py_Execute(ctx\u001b[39m.\u001b[39m_handle, device_name, op_name,\n\u001b[1;32m     61\u001b[0m                                       inputs, attrs, num_outputs)\n\u001b[1;32m     62\u001b[0m \u001b[39mexcept\u001b[39;00m core\u001b[39m.\u001b[39m_NotOkStatusException \u001b[39mas\u001b[39;00m e:\n\u001b[1;32m     63\u001b[0m   \u001b[39mif\u001b[39;00m name \u001b[39mis\u001b[39;00m \u001b[39mnot\u001b[39;00m \u001b[39mNone\u001b[39;00m:\n",
      "\u001b[0;31mUnknownError\u001b[0m: Graph execution error:\n\nDetected at node DCNN/conv2d_1/Conv2D defined at (most recent call last):\n  File \"/home/ujjwal/miniconda3/envs/tf-nightly/lib/python3.9/runpy.py\", line 197, in _run_module_as_main\n\n  File \"/home/ujjwal/miniconda3/envs/tf-nightly/lib/python3.9/runpy.py\", line 87, in _run_code\n\n  File \"/home/ujjwal/miniconda3/envs/tf-nightly/lib/python3.9/site-packages/ipykernel_launcher.py\", line 17, in <module>\n\n  File \"/home/ujjwal/miniconda3/envs/tf-nightly/lib/python3.9/site-packages/traitlets/config/application.py\", line 1043, in launch_instance\n\n  File \"/home/ujjwal/miniconda3/envs/tf-nightly/lib/python3.9/site-packages/ipykernel/kernelapp.py\", line 736, in start\n\n  File \"/home/ujjwal/miniconda3/envs/tf-nightly/lib/python3.9/site-packages/tornado/platform/asyncio.py\", line 195, in start\n\n  File \"/home/ujjwal/miniconda3/envs/tf-nightly/lib/python3.9/asyncio/base_events.py\", line 601, in run_forever\n\n  File \"/home/ujjwal/miniconda3/envs/tf-nightly/lib/python3.9/asyncio/base_events.py\", line 1905, in _run_once\n\n  File \"/home/ujjwal/miniconda3/envs/tf-nightly/lib/python3.9/asyncio/events.py\", line 80, in _run\n\n  File \"/home/ujjwal/miniconda3/envs/tf-nightly/lib/python3.9/site-packages/ipykernel/kernelbase.py\", line 516, in dispatch_queue\n\n  File \"/home/ujjwal/miniconda3/envs/tf-nightly/lib/python3.9/site-packages/ipykernel/kernelbase.py\", line 505, in process_one\n\n  File \"/home/ujjwal/miniconda3/envs/tf-nightly/lib/python3.9/site-packages/ipykernel/kernelbase.py\", line 412, in dispatch_shell\n\n  File \"/home/ujjwal/miniconda3/envs/tf-nightly/lib/python3.9/site-packages/ipykernel/kernelbase.py\", line 740, in execute_request\n\n  File \"/home/ujjwal/miniconda3/envs/tf-nightly/lib/python3.9/site-packages/ipykernel/ipkernel.py\", line 422, in do_execute\n\n  File \"/home/ujjwal/miniconda3/envs/tf-nightly/lib/python3.9/site-packages/ipykernel/zmqshell.py\", line 546, in run_cell\n\n  File \"/home/ujjwal/miniconda3/envs/tf-nightly/lib/python3.9/site-packages/IPython/core/interactiveshell.py\", line 3009, in run_cell\n\n  File \"/home/ujjwal/miniconda3/envs/tf-nightly/lib/python3.9/site-packages/IPython/core/interactiveshell.py\", line 3064, in _run_cell\n\n  File \"/home/ujjwal/miniconda3/envs/tf-nightly/lib/python3.9/site-packages/IPython/core/async_helpers.py\", line 129, in _pseudo_sync_runner\n\n  File \"/home/ujjwal/miniconda3/envs/tf-nightly/lib/python3.9/site-packages/IPython/core/interactiveshell.py\", line 3269, in run_cell_async\n\n  File \"/home/ujjwal/miniconda3/envs/tf-nightly/lib/python3.9/site-packages/IPython/core/interactiveshell.py\", line 3448, in run_ast_nodes\n\n  File \"/home/ujjwal/miniconda3/envs/tf-nightly/lib/python3.9/site-packages/IPython/core/interactiveshell.py\", line 3508, in run_code\n\n  File \"/tmp/ipykernel_275807/1390105209.py\", line 4, in <module>\n\n  File \"/home/ujjwal/miniconda3/envs/tf-nightly/lib/python3.9/site-packages/keras/src/utils/traceback_utils.py\", line 65, in error_handler\n\n  File \"/home/ujjwal/miniconda3/envs/tf-nightly/lib/python3.9/site-packages/keras/src/engine/training.py\", line 1783, in fit\n\n  File \"/home/ujjwal/miniconda3/envs/tf-nightly/lib/python3.9/site-packages/keras/src/engine/training.py\", line 1377, in train_function\n\n  File \"/home/ujjwal/miniconda3/envs/tf-nightly/lib/python3.9/site-packages/keras/src/engine/training.py\", line 1360, in step_function\n\n  File \"/home/ujjwal/miniconda3/envs/tf-nightly/lib/python3.9/site-packages/keras/src/engine/training.py\", line 1349, in run_step\n\n  File \"/home/ujjwal/miniconda3/envs/tf-nightly/lib/python3.9/site-packages/keras/src/engine/training.py\", line 1126, in train_step\n\n  File \"/home/ujjwal/miniconda3/envs/tf-nightly/lib/python3.9/site-packages/keras/src/utils/traceback_utils.py\", line 65, in error_handler\n\n  File \"/home/ujjwal/miniconda3/envs/tf-nightly/lib/python3.9/site-packages/keras/src/engine/training.py\", line 589, in __call__\n\n  File \"/home/ujjwal/miniconda3/envs/tf-nightly/lib/python3.9/site-packages/keras/src/utils/traceback_utils.py\", line 65, in error_handler\n\n  File \"/home/ujjwal/miniconda3/envs/tf-nightly/lib/python3.9/site-packages/keras/src/engine/base_layer.py\", line 1149, in __call__\n\n  File \"/home/ujjwal/miniconda3/envs/tf-nightly/lib/python3.9/site-packages/keras/src/utils/traceback_utils.py\", line 96, in error_handler\n\n  File \"/home/ujjwal/miniconda3/envs/tf-nightly/lib/python3.9/site-packages/keras/src/engine/functional.py\", line 515, in call\n\n  File \"/home/ujjwal/miniconda3/envs/tf-nightly/lib/python3.9/site-packages/keras/src/engine/functional.py\", line 672, in _run_internal_graph\n\n  File \"/home/ujjwal/miniconda3/envs/tf-nightly/lib/python3.9/site-packages/keras/src/utils/traceback_utils.py\", line 65, in error_handler\n\n  File \"/home/ujjwal/miniconda3/envs/tf-nightly/lib/python3.9/site-packages/keras/src/engine/base_layer.py\", line 1149, in __call__\n\n  File \"/home/ujjwal/miniconda3/envs/tf-nightly/lib/python3.9/site-packages/keras/src/utils/traceback_utils.py\", line 96, in error_handler\n\n  File \"/home/ujjwal/miniconda3/envs/tf-nightly/lib/python3.9/site-packages/keras/src/layers/convolutional/base_conv.py\", line 290, in call\n\n  File \"/home/ujjwal/miniconda3/envs/tf-nightly/lib/python3.9/site-packages/keras/src/layers/convolutional/base_conv.py\", line 262, in convolution_op\n\nCUDNN_STATUS_BAD_PARAM\nin tensorflow/compiler/xla/stream_executor/cuda/cuda_dnn.cc(4155): 'op' CUDNN_BACKEND_OPERATION: cudnnFinalize Failed\n\t [[{{node DCNN/conv2d_1/Conv2D}}]] [Op:__inference_train_function_5435]"
     ]
    }
   ],
   "source": [
    "#Fitting the data\n",
    "start = time.time()\n",
    "\n",
    "history = model.fit(train_data,\n",
    "                    epochs=30,\n",
    "                    steps_per_epoch=len(train_data),\n",
    "                    validation_steps=int(0.25*len(test_data)),\n",
    "                    # batch_size=64,\n",
    "                    validation_data = test_data,\n",
    "                    # validation_batch_size=64,\n",
    "                    callbacks=[early_stopping,lr_scheduler, checkpoint])\n",
    "\n",
    "end=time.time()"
   ]
  },
  {
   "cell_type": "code",
   "execution_count": 11,
   "id": "79cc43c1",
   "metadata": {},
   "outputs": [
    {
     "data": {
      "text/plain": [
       "<Axes: >"
      ]
     },
     "execution_count": 11,
     "metadata": {},
     "output_type": "execute_result"
    },
    {
     "data": {
      "image/png": "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",
      "text/plain": [
       "<Figure size 640x480 with 1 Axes>"
      ]
     },
     "metadata": {},
     "output_type": "display_data"
    }
   ],
   "source": [
    "pd.DataFrame(history.history).plot()"
   ]
  },
  {
   "cell_type": "code",
   "execution_count": 10,
   "id": "5b8cc07a",
   "metadata": {
    "scrolled": true
   },
   "outputs": [
    {
     "name": "stdout",
     "output_type": "stream",
     "text": [
      "56/56 [==============================] - 2s 19ms/step - loss: 0.8312 - accuracy: 0.7598\n"
     ]
    },
    {
     "data": {
      "text/plain": [
       "[0.8312171101570129, 0.7598253488540649]"
      ]
     },
     "execution_count": 10,
     "metadata": {},
     "output_type": "execute_result"
    }
   ],
   "source": [
    "model.evaluate(test_data)"
   ]
  },
  {
   "cell_type": "code",
   "execution_count": 26,
   "id": "402e92d0",
   "metadata": {},
   "outputs": [
    {
     "ename": "NameError",
     "evalue": "name 'history' is not defined",
     "output_type": "error",
     "traceback": [
      "\u001b[0;31m---------------------------------------------------------------------------\u001b[0m",
      "\u001b[0;31mNameError\u001b[0m                                 Traceback (most recent call last)",
      "Cell \u001b[0;32mIn[26], line 1\u001b[0m\n\u001b[0;32m----> 1\u001b[0m history\u001b[39m.\u001b[39mhistory[\u001b[39m\"\u001b[39m\u001b[39maccuracy\u001b[39m\u001b[39m\"\u001b[39m]\n",
      "\u001b[0;31mNameError\u001b[0m: name 'history' is not defined"
     ]
    }
   ],
   "source": [
    "history.history[\"accuracy\"]"
   ]
  },
  {
   "cell_type": "code",
   "execution_count": 28,
   "id": "c8c76c1b",
   "metadata": {},
   "outputs": [
    {
     "name": "stdout",
     "output_type": "stream",
     "text": [
      "Epoch 23/23\n"
     ]
    },
    {
     "name": "stdout",
     "output_type": "stream",
     "text": [
      "222/222 [==============================] - 17s 63ms/step - loss: 0.0889 - accuracy: 0.9802 - val_loss: 1.5989 - val_accuracy: 0.7881\n"
     ]
    }
   ],
   "source": [
    "history_1 = model.fit(train_data,\n",
    "          epochs=21+2,\n",
    "          validation_data=test_data,\n",
    "          steps_per_epoch=len(train_data),\n",
    "          validation_steps=int(0.25*len(test_data)),\n",
    "          initial_epoch=22)"
   ]
  },
  {
   "cell_type": "code",
   "execution_count": 29,
   "id": "50726b33",
   "metadata": {},
   "outputs": [
    {
     "name": "stdout",
     "output_type": "stream",
     "text": [
      " 1/56 [..............................] - ETA: 2s - loss: 1.5820 - accuracy: 0.8281"
     ]
    },
    {
     "name": "stdout",
     "output_type": "stream",
     "text": [
      "56/56 [==============================] - 1s 18ms/step - loss: 1.5988 - accuracy: 0.7881\n"
     ]
    },
    {
     "data": {
      "text/plain": [
       "[1.5988415479660034, 0.7881391644477844]"
      ]
     },
     "execution_count": 29,
     "metadata": {},
     "output_type": "execute_result"
    }
   ],
   "source": [
    "model.evaluate(test_data)"
   ]
  }
 ],
 "metadata": {
  "kernelspec": {
   "display_name": "Python 3 (ipykernel)",
   "language": "python",
   "name": "python3"
  },
  "language_info": {
   "codemirror_mode": {
    "name": "ipython",
    "version": 3
   },
   "file_extension": ".py",
   "mimetype": "text/x-python",
   "name": "python",
   "nbconvert_exporter": "python",
   "pygments_lexer": "ipython3",
   "version": "3.9.17"
  }
 },
 "nbformat": 4,
 "nbformat_minor": 5
}
