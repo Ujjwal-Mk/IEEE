{
 "cells": [
  {
   "cell_type": "code",
   "execution_count": 1,
   "id": "5ce99381",
   "metadata": {},
   "outputs": [
    {
     "name": "stdout",
     "output_type": "stream",
     "text": [
      "WARNING:tensorflow:From /home/ujjwal/miniconda3/envs/tf-nightly/lib/python3.9/site-packages/tensorflow/python/ops/distributions/distribution.py:259: ReparameterizationType.__init__ (from tensorflow.python.ops.distributions.distribution) is deprecated and will be removed after 2019-01-01.\n",
      "Instructions for updating:\n",
      "The TensorFlow Distributions library has moved to TensorFlow Probability (https://github.com/tensorflow/probability). You should update all references to use `tfp.distributions` instead of `tf.distributions`.\n",
      "WARNING:tensorflow:From /home/ujjwal/miniconda3/envs/tf-nightly/lib/python3.9/site-packages/tensorflow/python/ops/distributions/bernoulli.py:165: RegisterKL.__init__ (from tensorflow.python.ops.distributions.kullback_leibler) is deprecated and will be removed after 2019-01-01.\n",
      "Instructions for updating:\n",
      "The TensorFlow Distributions library has moved to TensorFlow Probability (https://github.com/tensorflow/probability). You should update all references to use `tfp.distributions` instead of `tf.distributions`.\n",
      "INFO:tensorflow:Mixed precision compatibility check (mixed_float16): OK\n",
      "Your GPU will likely run quickly with dtype policy mixed_float16 as it has compute capability of at least 7.0. Your GPU: NVIDIA GeForce RTX 3050 Laptop GPU, compute capability 8.6\n"
     ]
    }
   ],
   "source": [
    "import os\n",
    "os.environ['TF_CPP_MIN_LOG_LEVEL'] = '3' \n",
    "import numpy as np\n",
    "import pandas as pd\n",
    "import time\n",
    "import tensorflow as tf\n",
    "from tensorflow.keras import optimizers\n",
    "from tensorflow.keras.models import Model\n",
    "from tensorflow.keras.layers import Input, Flatten, Dense, Conv2D, MaxPooling2D\n",
    "from tensorflow.keras.layers import Dropout, BatchNormalization\n",
    "from tensorflow.keras.callbacks import Callback, EarlyStopping, ReduceLROnPlateau, ModelCheckpoint\n",
    "from keras.preprocessing.image import ImageDataGenerator\n",
    "from tensorflow.keras.utils import plot_model\n",
    "\n",
    "from sklearn.model_selection import train_test_split\n",
    "from sklearn.metrics import classification_report\n",
    "import matplotlib.pyplot as plt\n",
    "\n",
    "from tensorflow.keras import mixed_precision\n",
    "mixed_precision.set_global_policy('mixed_float16')"
   ]
  },
  {
   "cell_type": "code",
   "execution_count": 2,
   "id": "e017d18e",
   "metadata": {},
   "outputs": [],
   "source": [
    "tf.random.set_seed(42)"
   ]
  },
  {
   "cell_type": "code",
   "execution_count": 3,
   "id": "4a03fc89",
   "metadata": {},
   "outputs": [
    {
     "name": "stdout",
     "output_type": "stream",
     "text": [
      "Found 22712 images belonging to 8 classes.\n",
      "Found 5674 images belonging to 8 classes.\n",
      "Found 7099 images belonging to 8 classes.\n"
     ]
    }
   ],
   "source": [
    "#Getting the data\n",
    "batch_size = 128\n",
    "target_size = (48,48)\n",
    "train_dir = \"fer2013plus/fer2013/train/\"\n",
    "test_dir = \"fer2013plus/fer2013/test/\"\n",
    "train_dataGenerator = tf.keras.preprocessing.image.ImageDataGenerator(rescale=1./255,\n",
    "                                                               horizontal_flip=True,\n",
    "                                                               validation_split=0.2)\n",
    "train_ds = train_dataGenerator.flow_from_directory(train_dir,\n",
    "                                                        batch_size=batch_size,\n",
    "                                                        target_size=target_size, \n",
    "                                                        shuffle=True,\n",
    "                                                        class_mode='categorical',\n",
    "                                                        color_mode=\"grayscale\", \n",
    "                                                        subset='training')\n",
    "validation_ds = train_dataGenerator.flow_from_directory(train_dir,\n",
    "                                                        batch_size=batch_size,\n",
    "                                                        target_size=target_size,\n",
    "                                                        shuffle=True,\n",
    "                                                        class_mode='categorical',\n",
    "                                                        color_mode=\"grayscale\", \n",
    "                                                        subset='validation')\n",
    "\n",
    "test_dataGenerator = tf.keras.preprocessing.image.ImageDataGenerator(rescale=1./255,\n",
    "                                                              horizontal_flip=True)\n",
    "test_ds = test_dataGenerator.flow_from_directory(test_dir,\n",
    "                                                  batch_size=batch_size,\n",
    "                                                  target_size=target_size,\n",
    "                                                  shuffle=True,\n",
    "                                                  color_mode=\"grayscale\", \n",
    "                                                  class_mode=\"categorical\")"
   ]
  },
  {
   "cell_type": "code",
   "execution_count": 4,
   "id": "32ccfc2e",
   "metadata": {},
   "outputs": [],
   "source": [
    "def build_dcnn(input_shape, num_classes):\n",
    "    model_in = Input(shape=input_shape, name=\"input\")\n",
    "    \n",
    "    conv2d_1 = Conv2D(\n",
    "        filters=64,\n",
    "        kernel_size=(3,3),\n",
    "        activation='elu',\n",
    "        padding='same',\n",
    "        \n",
    "        kernel_initializer='he_normal',  \n",
    "        \n",
    "        name='conv2d_1'\n",
    "    )(model_in)\n",
    "    batchnorm_1 = BatchNormalization(name='batchnorm_1')(conv2d_1)\n",
    "    conv2d_2 = Conv2D(\n",
    "        filters=64,\n",
    "        kernel_size=(3,3),\n",
    "        activation='elu',\n",
    "        padding='same',\n",
    "        kernel_initializer='he_normal',\n",
    "        name='conv2d_2'\n",
    "    )(batchnorm_1)\n",
    "    batchnorm_2 = BatchNormalization(name='batchnorm_2')(conv2d_2)\n",
    "    \n",
    "    maxpool2d_1 = MaxPooling2D(pool_size=(2,2), name='maxpool2d_1')(batchnorm_2)\n",
    "    \n",
    "    dropout_1 = Dropout(0.2, name='dropout_1')(maxpool2d_1)\n",
    "\n",
    "    conv2d_3 = Conv2D(\n",
    "        filters=128,\n",
    "        kernel_size=(3,3),\n",
    "        activation='elu',\n",
    "        padding='same',\n",
    "        kernel_initializer='he_normal',\n",
    "        name='conv2d_3'\n",
    "    )(dropout_1)\n",
    "    batchnorm_3 = BatchNormalization(name='batchnorm_3')(conv2d_3)\n",
    "    conv2d_4 = Conv2D(\n",
    "        filters=128,\n",
    "        kernel_size=(3,3),\n",
    "        activation='elu',\n",
    "        padding='same',\n",
    "        kernel_initializer='he_normal',\n",
    "        name='conv2d_4'\n",
    "    )(batchnorm_3)\n",
    "    batchnorm_4 = BatchNormalization(name='batchnorm_4')(conv2d_4)\n",
    "    \n",
    "    maxpool2d_2 = MaxPooling2D(pool_size=(2,2), name='maxpool2d_2')(batchnorm_4)\n",
    "    dropout_2 = Dropout(0.2, name='dropout_2')(maxpool2d_2)\n",
    "\n",
    "    conv2d_5 = Conv2D(\n",
    "        filters=256,  # Increasing learning capacity and feature extraction\n",
    "        kernel_size=(3,3),\n",
    "        activation='elu',\n",
    "        padding='same',\n",
    "        kernel_initializer='he_normal',\n",
    "        name='conv2d_5'\n",
    "    )(dropout_2)\n",
    "    batchnorm_5 = BatchNormalization(name='batchnorm_5')(conv2d_5)\n",
    "    conv2d_6 = Conv2D(\n",
    "        filters=256,\n",
    "        kernel_size=(3,3),\n",
    "        activation='elu',\n",
    "        padding='same',\n",
    "        kernel_initializer='he_normal',\n",
    "        name='conv2d_6'\n",
    "    )(batchnorm_5)\n",
    "    batchnorm_6 = BatchNormalization(name='batchnorm_6')(conv2d_6)\n",
    "    \n",
    "    maxpool2d_3 = MaxPooling2D(pool_size=(2,2), name='maxpool2d_3')(batchnorm_6)\n",
    "\n",
    "    dropout_3 = Dropout(0.2, name='dropout_3')(maxpool2d_3)\n",
    "\n",
    "    flatten = Flatten(name='flatten')(dropout_3)\n",
    "    \n",
    "    dense_1 = Dense(\n",
    "        128,   # 128 input neurons\n",
    "        activation='elu',\n",
    "        kernel_initializer='he_normal',\n",
    "        name='dense1'\n",
    "    )(flatten)\n",
    "    batchnorm_7 = BatchNormalization(name='batchnorm_7')(dense_1)\n",
    "    dropout_4 = Dropout(0.4, name='dropout_4')(batchnorm_7)\n",
    "\n",
    "    model_out = Dense(\n",
    "        num_classes,\n",
    "        activation='softmax',\n",
    "        name='out_layer',\n",
    "        kernel_initializer=tf.keras.initializers.HeNormal()\n",
    "    )(dropout_4)\n",
    "\n",
    "    model = Model(inputs=model_in, outputs=model_out, name=\"DCNN\")\n",
    "    \n",
    "    return model"
   ]
  },
  {
   "cell_type": "code",
   "execution_count": 5,
   "id": "73f65e86",
   "metadata": {},
   "outputs": [
    {
     "name": "stdout",
     "output_type": "stream",
     "text": [
      "Model: \"DCNN\"\n",
      "_________________________________________________________________\n",
      " Layer (type)                Output Shape              Param #   \n",
      "=================================================================\n",
      " input (InputLayer)          [(None, 48, 48, 1)]       0         \n",
      "                                                                 \n",
      " conv2d_1 (Conv2D)           (None, 48, 48, 64)        640       \n",
      "                                                                 \n",
      " batchnorm_1 (BatchNormaliz  (None, 48, 48, 64)        256       \n",
      " ation)                                                          \n",
      "                                                                 \n",
      " conv2d_2 (Conv2D)           (None, 48, 48, 64)        36928     \n",
      "                                                                 \n",
      " batchnorm_2 (BatchNormaliz  (None, 48, 48, 64)        256       \n",
      " ation)                                                          \n",
      "                                                                 \n",
      " maxpool2d_1 (MaxPooling2D)  (None, 24, 24, 64)        0         \n",
      "                                                                 \n",
      " dropout_1 (Dropout)         (None, 24, 24, 64)        0         \n",
      "                                                                 \n",
      " conv2d_3 (Conv2D)           (None, 24, 24, 128)       73856     \n",
      "                                                                 \n",
      " batchnorm_3 (BatchNormaliz  (None, 24, 24, 128)       512       \n",
      " ation)                                                          \n",
      "                                                                 \n",
      " conv2d_4 (Conv2D)           (None, 24, 24, 128)       147584    \n",
      "                                                                 \n",
      " batchnorm_4 (BatchNormaliz  (None, 24, 24, 128)       512       \n",
      " ation)                                                          \n",
      "                                                                 \n",
      " maxpool2d_2 (MaxPooling2D)  (None, 12, 12, 128)       0         \n",
      "                                                                 \n",
      " dropout_2 (Dropout)         (None, 12, 12, 128)       0         \n",
      "                                                                 \n",
      " conv2d_5 (Conv2D)           (None, 12, 12, 256)       295168    \n",
      "                                                                 \n",
      " batchnorm_5 (BatchNormaliz  (None, 12, 12, 256)       1024      \n",
      " ation)                                                          \n",
      "                                                                 \n",
      " conv2d_6 (Conv2D)           (None, 12, 12, 256)       590080    \n",
      "                                                                 \n",
      " batchnorm_6 (BatchNormaliz  (None, 12, 12, 256)       1024      \n",
      " ation)                                                          \n",
      "                                                                 \n",
      " maxpool2d_3 (MaxPooling2D)  (None, 6, 6, 256)         0         \n",
      "                                                                 \n",
      " dropout_3 (Dropout)         (None, 6, 6, 256)         0         \n",
      "                                                                 \n",
      " flatten (Flatten)           (None, 9216)              0         \n",
      "                                                                 \n",
      " dense1 (Dense)              (None, 128)               1179776   \n",
      "                                                                 \n",
      " batchnorm_7 (BatchNormaliz  (None, 128)               512       \n",
      " ation)                                                          \n",
      "                                                                 \n",
      " dropout_4 (Dropout)         (None, 128)               0         \n",
      "                                                                 \n",
      " out_layer (Dense)           (None, 8)                 1032      \n",
      "                                                                 \n",
      "=================================================================\n",
      "Total params: 2329160 (8.89 MB)\n",
      "Trainable params: 2327112 (8.88 MB)\n",
      "Non-trainable params: 2048 (8.00 KB)\n",
      "_________________________________________________________________\n"
     ]
    }
   ],
   "source": [
    "model = build_dcnn(input_shape=(48,48,1), num_classes=8)\n",
    "model.summary()"
   ]
  },
  {
   "cell_type": "code",
   "execution_count": 6,
   "id": "7078178a",
   "metadata": {},
   "outputs": [],
   "source": [
    "model.compile(loss=\"categorical_crossentropy\",\n",
    "             optimizer=optimizers.Adam(0.01),\n",
    "             metrics=[\"accuracy\"])"
   ]
  },
  {
   "cell_type": "code",
   "execution_count": 7,
   "id": "f140ad32",
   "metadata": {},
   "outputs": [],
   "source": [
    "#Callback functions\n",
    "early_stopping = EarlyStopping(\n",
    "    monitor='val_loss',    \n",
    "    min_delta=0.00001,      \n",
    "    patience=8,            \n",
    "    verbose=1,\n",
    "    restore_best_weights=True\n",
    ")\n",
    "\n",
    "lr_scheduler = ReduceLROnPlateau(\n",
    "    monitor='val_accuracy',  #val_loss no overfitting   \n",
    "    min_delta=0.0001,  \n",
    "    mode=\"min\",\n",
    "    factor=0.5,                 \n",
    "    patience=6,                 \n",
    "    min_lr=1e-7,                \n",
    "    verbose=1                   \n",
    ")\n",
    "\n",
    "checkpoint = ModelCheckpoint(\"model.h5\", monitor='val_accuracy', \n",
    "                         verbose=1, save_best_only=True, mode='max')"
   ]
  },
  {
   "cell_type": "code",
   "execution_count": 8,
   "id": "2d9187b0",
   "metadata": {},
   "outputs": [],
   "source": [
    "# aug_datagen = ImageDataGenerator(\n",
    "# #     width_shift_range=0.15,\n",
    "# #     height_shift_range=0.15,\n",
    "# #     shear_range=0.15,\n",
    "#     zoom_range=0.15,\n",
    "#     horizontal_flip=True,\n",
    "#     validation_split=0.2\n",
    "# )"
   ]
  },
  {
   "cell_type": "code",
   "execution_count": 9,
   "id": "1f0c8a9c",
   "metadata": {},
   "outputs": [],
   "source": [
    "# aug_train_ds = aug_datagen.flow_from_directory(train_dir,\n",
    "#                                                target_size=target_size,\n",
    "#                                               batch_size=batch_size,\n",
    "#                                               color_mode=\"grayscale\",\n",
    "#                                               class_mode=\"categorical\",\n",
    "#                                               subset=\"training\")\n",
    "# aug_validation_ds = aug_datagen.flow_from_directory(train_dir,\n",
    "#                                                target_size=target_size,\n",
    "#                                               batch_size=batch_size,\n",
    "#                                               color_mode=\"grayscale\",\n",
    "#                                               class_mode=\"categorical\",\n",
    "#                                               subset=\"validation\")"
   ]
  },
  {
   "cell_type": "code",
   "execution_count": 10,
   "id": "be8e1bff",
   "metadata": {
    "scrolled": true
   },
   "outputs": [
    {
     "name": "stdout",
     "output_type": "stream",
     "text": [
      "Epoch 1/50\n"
     ]
    },
    {
     "name": "stdout",
     "output_type": "stream",
     "text": [
      "178/178 [==============================] - ETA: 0s - loss: 1.5389 - accuracy: 0.4550\n",
      "Epoch 1: val_accuracy improved from -inf to 0.47515, saving model to model.h5\n",
      "178/178 [==============================] - 21s 78ms/step - loss: 1.5389 - accuracy: 0.4550 - val_loss: 1.4434 - val_accuracy: 0.4751 - lr: 0.0100\n",
      "Epoch 2/50\n",
      "  1/178 [..............................] - ETA: 15s - loss: 1.1484 - accuracy: 0.5859"
     ]
    },
    {
     "name": "stderr",
     "output_type": "stream",
     "text": [
      "/home/ujjwal/miniconda3/envs/tf-nightly/lib/python3.9/site-packages/keras/src/engine/training.py:3079: UserWarning: You are saving your model as an HDF5 file via `model.save()`. This file format is considered legacy. We recommend using instead the native Keras format, e.g. `model.save('my_model.keras')`.\n",
      "  saving_api.save_model(\n"
     ]
    },
    {
     "name": "stdout",
     "output_type": "stream",
     "text": [
      "178/178 [==============================] - ETA: 0s - loss: 1.0385 - accuracy: 0.6363\n",
      "Epoch 2: val_accuracy improved from 0.47515 to 0.66602, saving model to model.h5\n",
      "178/178 [==============================] - 11s 64ms/step - loss: 1.0385 - accuracy: 0.6363 - val_loss: 0.9566 - val_accuracy: 0.6660 - lr: 0.0100\n",
      "Epoch 3/50\n",
      "178/178 [==============================] - ETA: 0s - loss: 0.8503 - accuracy: 0.7022\n",
      "Epoch 3: val_accuracy did not improve from 0.66602\n",
      "178/178 [==============================] - 11s 63ms/step - loss: 0.8503 - accuracy: 0.7022 - val_loss: 1.1524 - val_accuracy: 0.6091 - lr: 0.0100\n",
      "Epoch 4/50\n",
      "178/178 [==============================] - ETA: 0s - loss: 0.7712 - accuracy: 0.7280\n",
      "Epoch 4: val_accuracy improved from 0.66602 to 0.71043, saving model to model.h5\n",
      "178/178 [==============================] - 11s 64ms/step - loss: 0.7712 - accuracy: 0.7280 - val_loss: 0.8106 - val_accuracy: 0.7104 - lr: 0.0100\n",
      "Epoch 5/50\n",
      "178/178 [==============================] - ETA: 0s - loss: 0.6921 - accuracy: 0.7537\n",
      "Epoch 5: val_accuracy improved from 0.71043 to 0.73000, saving model to model.h5\n",
      "178/178 [==============================] - 11s 64ms/step - loss: 0.6921 - accuracy: 0.7537 - val_loss: 0.7699 - val_accuracy: 0.7300 - lr: 0.0100\n",
      "Epoch 6/50\n",
      "178/178 [==============================] - ETA: 0s - loss: 0.6522 - accuracy: 0.7707\n",
      "Epoch 6: val_accuracy did not improve from 0.73000\n",
      "178/178 [==============================] - 11s 64ms/step - loss: 0.6522 - accuracy: 0.7707 - val_loss: 0.8233 - val_accuracy: 0.7108 - lr: 0.0100\n",
      "Epoch 7/50\n",
      "178/178 [==============================] - ETA: 0s - loss: 0.6153 - accuracy: 0.7843\n",
      "Epoch 7: ReduceLROnPlateau reducing learning rate to 0.004999999888241291.\n",
      "\n",
      "Epoch 7: val_accuracy improved from 0.73000 to 0.73581, saving model to model.h5\n",
      "178/178 [==============================] - 11s 64ms/step - loss: 0.6153 - accuracy: 0.7843 - val_loss: 0.7489 - val_accuracy: 0.7358 - lr: 0.0100\n",
      "Epoch 8/50\n",
      "178/178 [==============================] - ETA: 0s - loss: 0.5230 - accuracy: 0.8138\n",
      "Epoch 8: val_accuracy improved from 0.73581 to 0.78410, saving model to model.h5\n",
      "178/178 [==============================] - 11s 64ms/step - loss: 0.5230 - accuracy: 0.8138 - val_loss: 0.6249 - val_accuracy: 0.7841 - lr: 0.0050\n",
      "Epoch 9/50\n",
      "178/178 [==============================] - ETA: 0s - loss: 0.4842 - accuracy: 0.8295\n",
      "Epoch 9: val_accuracy did not improve from 0.78410\n",
      "178/178 [==============================] - 11s 64ms/step - loss: 0.4842 - accuracy: 0.8295 - val_loss: 0.6454 - val_accuracy: 0.7719 - lr: 0.0050\n",
      "Epoch 10/50\n",
      "178/178 [==============================] - ETA: 0s - loss: 0.4606 - accuracy: 0.8359\n",
      "Epoch 10: val_accuracy did not improve from 0.78410\n",
      "178/178 [==============================] - 11s 64ms/step - loss: 0.4606 - accuracy: 0.8359 - val_loss: 0.8226 - val_accuracy: 0.7372 - lr: 0.0050\n",
      "Epoch 11/50\n",
      "178/178 [==============================] - ETA: 0s - loss: 0.4411 - accuracy: 0.8450\n",
      "Epoch 11: val_accuracy did not improve from 0.78410\n",
      "178/178 [==============================] - 12s 65ms/step - loss: 0.4411 - accuracy: 0.8450 - val_loss: 0.6500 - val_accuracy: 0.7721 - lr: 0.0050\n",
      "Epoch 12/50\n",
      "178/178 [==============================] - ETA: 0s - loss: 0.4196 - accuracy: 0.8518\n",
      "Epoch 12: val_accuracy did not improve from 0.78410\n",
      "178/178 [==============================] - 12s 66ms/step - loss: 0.4196 - accuracy: 0.8518 - val_loss: 0.6835 - val_accuracy: 0.7788 - lr: 0.0050\n",
      "Epoch 13/50\n",
      "178/178 [==============================] - ETA: 0s - loss: 0.3931 - accuracy: 0.8593\n",
      "Epoch 13: ReduceLROnPlateau reducing learning rate to 0.0024999999441206455.\n",
      "\n",
      "Epoch 13: val_accuracy did not improve from 0.78410\n",
      "178/178 [==============================] - 12s 65ms/step - loss: 0.3931 - accuracy: 0.8593 - val_loss: 0.6882 - val_accuracy: 0.7714 - lr: 0.0050\n",
      "Epoch 14/50\n",
      "178/178 [==============================] - ETA: 0s - loss: 0.3176 - accuracy: 0.8878\n",
      "Epoch 14: val_accuracy did not improve from 0.78410\n",
      "178/178 [==============================] - 12s 65ms/step - loss: 0.3176 - accuracy: 0.8878 - val_loss: 0.7045 - val_accuracy: 0.7809 - lr: 0.0025\n",
      "Epoch 15/50\n",
      "178/178 [==============================] - ETA: 0s - loss: 0.2768 - accuracy: 0.9023\n",
      "Epoch 15: val_accuracy improved from 0.78410 to 0.79080, saving model to model.h5\n",
      "178/178 [==============================] - 12s 65ms/step - loss: 0.2768 - accuracy: 0.9023 - val_loss: 0.6704 - val_accuracy: 0.7908 - lr: 0.0025\n",
      "Epoch 16/50\n",
      "178/178 [==============================] - ETA: 0s - loss: 0.2465 - accuracy: 0.9122Restoring model weights from the end of the best epoch: 8.\n",
      "\n",
      "Epoch 16: val_accuracy improved from 0.79080 to 0.79644, saving model to model.h5\n",
      "178/178 [==============================] - 12s 65ms/step - loss: 0.2465 - accuracy: 0.9122 - val_loss: 0.7054 - val_accuracy: 0.7964 - lr: 0.0025\n",
      "Epoch 16: early stopping\n"
     ]
    }
   ],
   "source": [
    "#Fitting the data\n",
    "start = time.time()\n",
    "history = model.fit(train_ds,\n",
    "                   validation_data = validation_ds,\n",
    "                   epochs=50,\n",
    "                   callbacks=[early_stopping, lr_scheduler, checkpoint])\n",
    "end = time.time()"
   ]
  },
  {
   "cell_type": "code",
   "execution_count": 12,
   "id": "05bfacf4",
   "metadata": {},
   "outputs": [],
   "source": [
    "import pickle\n",
    "with open(f\"time_var/dcnn-rtx3050\", 'wb') as file:\n",
    "    pickle.dump(end-start, file)"
   ]
  },
  {
   "cell_type": "code",
   "execution_count": 166,
   "id": "5b8cc07a",
   "metadata": {
    "scrolled": true
   },
   "outputs": [
    {
     "name": "stdout",
     "output_type": "stream",
     "text": [
      "56/56 [==============================] - 7s 121ms/step - loss: 0.6059 - accuracy: 0.7857\n"
     ]
    },
    {
     "data": {
      "text/plain": [
       "[0.6058780550956726, 0.7857444882392883]"
      ]
     },
     "execution_count": 166,
     "metadata": {},
     "output_type": "execute_result"
    }
   ],
   "source": [
    "model.evaluate(test_ds)"
   ]
  },
  {
   "cell_type": "code",
   "execution_count": 167,
   "id": "8ef0b18d",
   "metadata": {},
   "outputs": [
    {
     "data": {
      "image/png": "[encoded data removed]",
      "text/plain": [
       "<Figure size 640x480 with 1 Axes>"
      ]
     },
     "metadata": {},
     "output_type": "display_data"
    }
   ],
   "source": [
    "plt.plot(history.history[\"val_accuracy\"], color=\"blue\")\n",
    "#plt.plot(history.history[\"accuracy\"], color=\"red\")\n",
    "plt.plot(history.history[\"val_loss\"], color=\"green\")\n",
    "plt.plot(history.history[\"loss\"], color=\"red\")\n",
    "plt.legend([\"val_accuracy\",\"val_loss\",\"loss\"])\n",
    "plt.show()"
   ]
  },
  {
   "cell_type": "code",
   "execution_count": 18,
   "id": "94b8bd72",
   "metadata": {},
   "outputs": [],
   "source": [
    "emotions = { #list of available emotions in the dataset\n",
    "    0:\"Angry\",\n",
    "    1:\"Disgust\",\n",
    "    2:\"Fear\",\n",
    "    3:\"Happy\",\n",
    "    4:\"Sad\",\n",
    "    5:\"Surprize\",\n",
    "    6:\"Neutral\"\n",
    "}"
   ]
  },
  {
   "cell_type": "code",
   "execution_count": 26,
   "id": "9e662fd9",
   "metadata": {},
   "outputs": [
    {
     "name": "stdout",
     "output_type": "stream",
     "text": [
      "57/57 [==============================] - 6s 109ms/step\n"
     ]
    }
   ],
   "source": [
    "y_pred = model.predict(test_ds)"
   ]
  },
  {
   "cell_type": "code",
   "execution_count": 45,
   "id": "378efc87",
   "metadata": {},
   "outputs": [
    {
     "name": "stdout",
     "output_type": "stream",
     "text": [
      "1/1 [==============================] - 0s 40ms/step\n"
     ]
    },
    {
     "data": {
      "text/plain": [
       "array([2])"
      ]
     },
     "execution_count": 45,
     "metadata": {},
     "output_type": "execute_result"
    }
   ],
   "source": [
    "from skimage import io\n",
    "img = tf.keras.preprocessing.image.load_img('fer2013/test/angry/PrivateTest_1054527.jpg', grayscale=True, target_size=(48, 48))\n",
    "img_array = tf.keras.preprocessing.image.img_to_array(img)\n",
    "img_array = np.expand_dims(img_array, axis=0)\n",
    "\n",
    "imgs_array\n",
    "\n",
    "y = model.predict(img_array)\n",
    "y_pred = np.argmax(y , axis = 1 )\n",
    "y_pred"
   ]
  },
  {
   "cell_type": "code",
   "execution_count": 168,
   "id": "de7ea3e9",
   "metadata": {},
   "outputs": [
    {
     "name": "stderr",
     "output_type": "stream",
     "text": [
      "WARNING:absl:Found untraced functions such as _jit_compiled_convolution_op, _jit_compiled_convolution_op, _jit_compiled_convolution_op, _jit_compiled_convolution_op, _jit_compiled_convolution_op while saving (showing 5 of 6). These functions will not be directly callable after loading.\n"
     ]
    },
    {
     "name": "stdout",
     "output_type": "stream",
     "text": [
      "INFO:tensorflow:Assets written to: high/assets\n"
     ]
    },
    {
     "name": "stderr",
     "output_type": "stream",
     "text": [
      "INFO:tensorflow:Assets written to: high/assets\n"
     ]
    }
   ],
   "source": [
    "model.save(\"high\")"
   ]
  }
 ],
 "metadata": {
  "kernelspec": {
   "display_name": "Python 3 (ipykernel)",
   "language": "python",
   "name": "python3"
  },
  "language_info": {
   "codemirror_mode": {
    "name": "ipython",
    "version": 3
   },
   "file_extension": ".py",
   "mimetype": "text/x-python",
   "name": "python",
   "nbconvert_exporter": "python",
   "pygments_lexer": "ipython3",
   "version": "3.9.17"
  }
 },
 "nbformat": 4,
 "nbformat_minor": 5
}
